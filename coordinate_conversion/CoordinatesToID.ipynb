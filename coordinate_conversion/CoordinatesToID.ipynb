{
 "cells": [
  {
   "cell_type": "code",
   "execution_count": 73,
   "metadata": {},
   "outputs": [],
   "source": [
    "import pandas as pd\n",
    "import geopandas as gpd\n",
    "from shapely.geometry import Point, LineString, Polygon\n",
    "import math"
   ]
  },
  {
   "cell_type": "code",
   "execution_count": 66,
   "metadata": {},
   "outputs": [],
   "source": [
    "all_data = gpd.read_file(\"Sidewalks.shp\")"
   ]
  },
  {
   "cell_type": "code",
   "execution_count": 71,
   "metadata": {},
   "outputs": [
    {
     "data": {
      "text/html": [
       "<div>\n",
       "<style scoped>\n",
       "    .dataframe tbody tr th:only-of-type {\n",
       "        vertical-align: middle;\n",
       "    }\n",
       "\n",
       "    .dataframe tbody tr th {\n",
       "        vertical-align: top;\n",
       "    }\n",
       "\n",
       "    .dataframe thead th {\n",
       "        text-align: right;\n",
       "    }\n",
       "</style>\n",
       "<table border=\"1\" class=\"dataframe\">\n",
       "  <thead>\n",
       "    <tr style=\"text-align: right;\">\n",
       "      <th></th>\n",
       "      <th>OBJECTID</th>\n",
       "      <th>COMPKEY</th>\n",
       "      <th>COMPTYPE</th>\n",
       "      <th>SEGKEY</th>\n",
       "      <th>DISTANCE</th>\n",
       "      <th>ENDDISTANC</th>\n",
       "      <th>WIDTH</th>\n",
       "      <th>UNITID</th>\n",
       "      <th>UNITTYPE</th>\n",
       "      <th>UNITDESC</th>\n",
       "      <th>...</th>\n",
       "      <th>OVERRIDECO</th>\n",
       "      <th>CURBRAMPHI</th>\n",
       "      <th>CURBRAMPMI</th>\n",
       "      <th>CURBRAMPLO</th>\n",
       "      <th>SRTS_SIDEW</th>\n",
       "      <th>NUM_ATTACH</th>\n",
       "      <th>PRIMARYCRO</th>\n",
       "      <th>MINIMUMVAR</th>\n",
       "      <th>Shape_Leng</th>\n",
       "      <th>geometry</th>\n",
       "    </tr>\n",
       "  </thead>\n",
       "  <tbody>\n",
       "    <tr>\n",
       "      <th>0</th>\n",
       "      <td>1</td>\n",
       "      <td>304622</td>\n",
       "      <td>97</td>\n",
       "      <td>17015</td>\n",
       "      <td>13</td>\n",
       "      <td>298.0</td>\n",
       "      <td>20.5</td>\n",
       "      <td>SDW-11397</td>\n",
       "      <td>SDW</td>\n",
       "      <td>NE 54TH ST BETWEEN 45TH AVE NE AND 46TH AVE NE...</td>\n",
       "      <td>...</td>\n",
       "      <td></td>\n",
       "      <td>U</td>\n",
       "      <td>U</td>\n",
       "      <td>U</td>\n",
       "      <td>1</td>\n",
       "      <td>1</td>\n",
       "      <td>0.8</td>\n",
       "      <td>0</td>\n",
       "      <td>293.997042</td>\n",
       "      <td>LINESTRING (-122.279465262364 47.6674005439378...</td>\n",
       "    </tr>\n",
       "    <tr>\n",
       "      <th>1</th>\n",
       "      <td>2</td>\n",
       "      <td>304701</td>\n",
       "      <td>97</td>\n",
       "      <td>8983</td>\n",
       "      <td>23</td>\n",
       "      <td>241.0</td>\n",
       "      <td>42.5</td>\n",
       "      <td>SDW-12751</td>\n",
       "      <td>SDW</td>\n",
       "      <td>AURORA AVE N BETWEEN N 103RD N ST AND N 104TH ...</td>\n",
       "      <td>...</td>\n",
       "      <td></td>\n",
       "      <td>Y</td>\n",
       "      <td>U</td>\n",
       "      <td>Y</td>\n",
       "      <td>3</td>\n",
       "      <td>1</td>\n",
       "      <td>1.7</td>\n",
       "      <td>0</td>\n",
       "      <td>217.333110</td>\n",
       "      <td>LINESTRING (-122.3448502510738 47.703664645768...</td>\n",
       "    </tr>\n",
       "    <tr>\n",
       "      <th>2</th>\n",
       "      <td>3</td>\n",
       "      <td>304581</td>\n",
       "      <td>97</td>\n",
       "      <td>16872</td>\n",
       "      <td>0</td>\n",
       "      <td>96.0</td>\n",
       "      <td>-23.5</td>\n",
       "      <td>SDW-10759</td>\n",
       "      <td>SDW</td>\n",
       "      <td>NE 45TH ST BETWEEN 47TH AVE NE AND 48TH W AVE ...</td>\n",
       "      <td>...</td>\n",
       "      <td></td>\n",
       "      <td>Y</td>\n",
       "      <td>U</td>\n",
       "      <td>U</td>\n",
       "      <td>3</td>\n",
       "      <td>3</td>\n",
       "      <td>-2.6</td>\n",
       "      <td>0</td>\n",
       "      <td>95.141059</td>\n",
       "      <td>LINESTRING (-122.2773056637669 47.661224514370...</td>\n",
       "    </tr>\n",
       "  </tbody>\n",
       "</table>\n",
       "<p>3 rows × 64 columns</p>\n",
       "</div>"
      ],
      "text/plain": [
       "   OBJECTID  COMPKEY  COMPTYPE  SEGKEY  DISTANCE  ENDDISTANC  WIDTH  \\\n",
       "0         1   304622        97   17015        13       298.0   20.5   \n",
       "1         2   304701        97    8983        23       241.0   42.5   \n",
       "2         3   304581        97   16872         0        96.0  -23.5   \n",
       "\n",
       "      UNITID UNITTYPE                                           UNITDESC  \\\n",
       "0  SDW-11397      SDW  NE 54TH ST BETWEEN 45TH AVE NE AND 46TH AVE NE...   \n",
       "1  SDW-12751      SDW  AURORA AVE N BETWEEN N 103RD N ST AND N 104TH ...   \n",
       "2  SDW-10759      SDW  NE 45TH ST BETWEEN 47TH AVE NE AND 48TH W AVE ...   \n",
       "\n",
       "                         ...                         OVERRIDECO CURBRAMPHI  \\\n",
       "0                        ...                                             U   \n",
       "1                        ...                                             Y   \n",
       "2                        ...                                             Y   \n",
       "\n",
       "  CURBRAMPMI CURBRAMPLO SRTS_SIDEW NUM_ATTACH PRIMARYCRO MINIMUMVAR  \\\n",
       "0          U          U          1          1        0.8          0   \n",
       "1          U          Y          3          1        1.7          0   \n",
       "2          U          U          3          3       -2.6          0   \n",
       "\n",
       "   Shape_Leng                                           geometry  \n",
       "0  293.997042  LINESTRING (-122.279465262364 47.6674005439378...  \n",
       "1  217.333110  LINESTRING (-122.3448502510738 47.703664645768...  \n",
       "2   95.141059  LINESTRING (-122.2773056637669 47.661224514370...  \n",
       "\n",
       "[3 rows x 64 columns]"
      ]
     },
     "execution_count": 71,
     "metadata": {},
     "output_type": "execute_result"
    }
   ],
   "source": [
    "all_data.head(3)"
   ]
  },
  {
   "cell_type": "code",
   "execution_count": 81,
   "metadata": {},
   "outputs": [
    {
     "data": {
      "image/svg+xml": [
       "<svg xmlns=\"http://www.w3.org/2000/svg\" xmlns:xlink=\"http://www.w3.org/1999/xlink\" width=\"100.0\" height=\"100.0\" viewBox=\"-122.33499358109937 47.606195811101195 0.002195162198745493 0.0019623777976107704\" preserveAspectRatio=\"xMinYMin meet\"><g transform=\"matrix(1,0,0,-1,0,95.214354)\"><path fill-rule=\"evenodd\" fill=\"#66cc99\" stroke=\"#555555\" stroke-width=\"4.390324397490986e-05\" opacity=\"0.6\" d=\"M -122.33491227879571,47.607177 L -122.33461461762802,47.60654068408627 L -122.333896,47.60627711340485 L -122.33317738237197,47.60654068408627 L -122.33287972120428,47.607177 L -122.33317738237197,47.60781331591373 L -122.333896,47.60807688659515 L -122.33461461762802,47.60781331591373 L -122.33491227879571,47.607177 z\" /></g></svg>"
      ],
      "text/plain": [
       "<shapely.geometry.polygon.Polygon at 0x1d47af7a0f0>"
      ]
     },
     "execution_count": 81,
     "metadata": {},
     "output_type": "execute_result"
    }
   ],
   "source": [
    "point_coord = [-122.333896, 47.607177]\n",
    "radius = 0.1 #km\n",
    "\n",
    "sqrt2 = math.sqrt(2)\n",
    "conversion_coord = [[1, 0], [1/sqrt2, -1/sqrt2], [0, -1], [-1/sqrt2, -1/sqrt2], [-1, 0], [-1/sqrt2, 1/sqrt2], [0, 1], [1/sqrt2, 1/sqrt2]]\n",
    "\n",
    "polygon_list = []\n",
    "\n",
    "for i in range(0, len(conversion_coord)):\n",
    "    long = point_coord[0] + conversion_coord[i][0] * radius * 180 / (math.pi * 6367 * math.cos(point_coord[1]))\n",
    "    lat = point_coord[1] + conversion_coord[i][1] * radius * 180 / (math.pi * 6367)\n",
    "    polygon_list.append([long, lat])\n",
    "    \n",
    "point = Polygon(polygon_list)\n",
    "point"
   ]
  },
  {
   "cell_type": "code",
   "execution_count": 82,
   "metadata": {},
   "outputs": [
    {
     "name": "stdout",
     "output_type": "stream",
     "text": [
      "SDW-29560 SENECA ST BETWEEN 3RD AVE AND 4TH AVE, NW SIDE\n",
      "SDW-29557 SENECA ST BETWEEN 4TH AVE AND 5TH AVE, SE SIDE\n",
      "SDW-31764 4TH AVE BETWEEN MADISON ST AND SPRING ST, SW SIDE\n",
      "SDW-29559 SENECA ST BETWEEN 3RD AVE AND 4TH AVE, SE SIDE\n",
      "SDW-29687 SPRING ST BETWEEN 4TH AVE AND 5TH AVE, NW SIDE\n",
      "SDW-31763 4TH AVE BETWEEN SPRING ST AND SENECA ST, NE SIDE\n",
      "SDW-31762 4TH AVE BETWEEN SPRING ST AND SENECA ST, SW SIDE\n",
      "SDW-29558 SENECA ST BETWEEN 4TH AVE AND 5TH AVE, NW SIDE\n",
      "SDW-31765 4TH AVE BETWEEN MADISON ST AND SPRING ST, NE SIDE\n",
      "SDW-31760 4TH AVE BETWEEN SENECA ST AND UNIVERSITY ST, SW SIDE\n",
      "SDW-31761 4TH AVE BETWEEN SENECA ST AND UNIVERSITY ST, NE SIDE\n",
      "SDW-29688 SPRING ST BETWEEN 3RD AVE AND 4TH AVE, SE SIDE\n",
      "SDW-29569 SPRING ST BETWEEN 4TH AVE AND 5TH AVE, SE SIDE\n",
      "SDW-29689 SPRING ST BETWEEN 3RD AVE AND 4TH AVE, NW SIDE\n"
     ]
    }
   ],
   "source": [
    "for i in range(0, all_data.UNITID.count()):\n",
    "    if all_data.geometry[i] is not None:\n",
    "        if point.intersects(all_data.geometry[i]):\n",
    "            print(all_data.UNITID[i] + \" \" + all_data.UNITDESC[i])\n"
   ]
  },
  {
   "cell_type": "code",
   "execution_count": null,
   "metadata": {},
   "outputs": [],
   "source": []
  }
 ],
 "metadata": {
  "kernelspec": {
   "display_name": "Python 3",
   "language": "python",
   "name": "python3"
  },
  "language_info": {
   "codemirror_mode": {
    "name": "ipython",
    "version": 3
   },
   "file_extension": ".py",
   "mimetype": "text/x-python",
   "name": "python",
   "nbconvert_exporter": "python",
   "pygments_lexer": "ipython3",
   "version": "3.5.1"
  }
 },
 "nbformat": 4,
 "nbformat_minor": 2
}
